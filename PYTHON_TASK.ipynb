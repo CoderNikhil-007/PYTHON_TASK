{
 "cells": [
  {
   "cell_type": "code",
   "execution_count": 13,
   "id": "10f47b79",
   "metadata": {},
   "outputs": [
    {
     "name": "stdout",
     "output_type": "stream",
     "text": [
      "3\n",
      "1 6 13\n",
      "8 0\n",
      "1 47\n",
      "3 6 0\n",
      "12 30\n",
      "14 45\n",
      "6 0\n",
      "0 0\n",
      "2 23 35\n",
      "20 15\n",
      "10 30\n",
      "10 55\n"
     ]
    }
   ],
   "source": [
    "#The approach of this question is finding the Hours and Minutes Value of first alarm by finding the Minimum value of hours.\n",
    "#Then we can find the time difference by keeping the hours and minutes difference of sleeping time and first alarm time.\n",
    "\n",
    "\n",
    "t = int(input())\n",
    "while t>0:\n",
    "    n,h,m = map(int, input().split(\" \"))\n",
    "    arr = [] #we will be making a list of all the alarm timing\n",
    "    for i in range(n):\n",
    "        arr.append(list(map(int,input().split(\" \")))) #Hours and minutes of every alarm will be in form of sub lists of main list\n",
    "    arr.sort() #Sorted the array to get the timing of first alarm\n",
    "    h1 = arr[0][0] #Hours value of first alarm\n",
    "    m1 = arr[0][1] #Minutes Value of second alarm\n",
    "    if h<=h1: #If the first alarm timing lies within the same day of sleeping i.e. Vlad slept and woke up at same day(same 24 hours timing)\n",
    "        hf = h1 - h - 1 #hf represents the hours of sleep. -1 to negate the minutes of sleep\n",
    "        hm = (60-m) + m1 #hm represents the minutes of sleep.\n",
    "        if hm>=60: #If hm value is greater than 60\n",
    "            hf = hf+1 #Then value of hf is changed\n",
    "            hm = hm%60 #Value  of hm is negated\n",
    "    else: #If the first alarm timing does not lie within the same day of sleeping i.e. Vlad did not sleep and wake up at same day(same 24 hours timing)\n",
    "        hf = (24-h) + h1 -1 #First day 24 hours cycle is completed first then rest of the hours added. -1 to negate the minutes of sleep.\n",
    "        hm = (60-m) + m1  #hm represents the minutes of sleep\n",
    "        if hm>=60: #If hm value is greater than 60\n",
    "            hf = hf+1 #Then value of hf is changed\n",
    "            hm = hm%60 #Value  of hm is negated\n",
    "    print(hf,hm) #We get the value of Hours and Minutes of sleep\n",
    "    t =  t-1"
   ]
  },
  {
   "cell_type": "code",
   "execution_count": null,
   "id": "63e64fa6",
   "metadata": {},
   "outputs": [],
   "source": []
  }
 ],
 "metadata": {
  "kernelspec": {
   "display_name": "Python 3 (ipykernel)",
   "language": "python",
   "name": "python3"
  },
  "language_info": {
   "codemirror_mode": {
    "name": "ipython",
    "version": 3
   },
   "file_extension": ".py",
   "mimetype": "text/x-python",
   "name": "python",
   "nbconvert_exporter": "python",
   "pygments_lexer": "ipython3",
   "version": "3.9.7"
  }
 },
 "nbformat": 4,
 "nbformat_minor": 5
}
